from splinter import Browser
from bs4 import BeautifulSoup as bs
import requests
# In this assignment, you will build a web application that scrapes various websites 
# for data related to the Mission to Mars and 
# displays the information in a single HTML page. The following outlines what you need to do.
#BEAUTIFUL SOUP
# Instructions
# Scrape the NASA Mars News Site and collect the latest News Title and Paragraph Text.
# Assign the text to variables that you can reference later.
# URL of page to be scraped
url = 'https://mars.nasa.gov/news/'
# Retrieve page with the requests module
response = requests.get(url)
# Create BeautifulSoup object; parse with 'html.parser'
soup_news = bs(response.text, 'html.parser')
print(soup_news.prettify())
<!DOCTYPE html>
<html lang="en" xml:lang="en" xmlns="http://www.w3.org/1999/xhtml">
 <head>
  <meta content="text/html; charset=utf-8" http-equiv="Content-Type"/>
  <!-- Always force latest IE rendering engine or request Chrome Frame -->
  <meta content="IE=edge,chrome=1" http-equiv="X-UA-Compatible"/>
  <script type="text/javascript">
   window.NREUM||(NREUM={});NREUM.info={"beacon":"bam.nr-data.net","errorBeacon":"bam.nr-data.net","licenseKey":"5e33925808","applicationID":"59562082","transactionName":"JVcPR0MLWApSRU1eAQVVEhxSC1oSUlkWbBMHXwRAHhdcCUA=","queueTime":0,"applicationTime":219,"agent":""}
  </script>
  <script type="text/javascript">
   (window.NREUM||(NREUM={})).loader_config={xpid:"VQcPUlZTDxAFXVRUBQEPVA=="};window.NREUM||(NREUM={}),__nr_require=function(t,n,e){function r(e){if(!n[e]){var o=n[e]={exports:{}};t[e][0].call(o.exports,function(n){var o=t[e][1][n];return r(o||n)},o,o.exports)}return n[e].exports}if("function"==typeof __nr_require)return __nr_require;for(var o=0;o<e.length;o++)r(e[o]);return r}({1:[function(t,n,e){function r(t){try{s.console&&console.log(t)}catch(n){}}var o,i=t("ee"),a=t(18),s={};try{o=localStorage.getItem("__nr_flags").split(","),console&&"function"==typeof console.log&&(s.console=!0,o.indexOf("dev")!==-1&&(s.dev=!0),o.indexOf("nr_dev")!==-1&&(s.nrDev=!0))}catch(c){}s.nrDev&&i.on("internal-error",function(t){r(t.stack)}),s.dev&&i.on("fn-err",function(t,n,e){r(e.stack)}),s.dev&&(r("NR AGENT IN DEVELOPMENT MODE"),r("flags: "+a(s,function(t,n){return t}).join(", ")))},{}],2:[function(t,n,e){function r(t,n,e,r,s){try{p?p-=1:o(s||new UncaughtException(t,n,e),!0)}catch(f){try{i("ierr",[f,c.now(),!0])}catch(d){}}return"function"==typeof u&&u.apply(this,a(arguments))}function UncaughtException(t,n,e){this.message=t||"Uncaught error with no additional information",this.sourceURL=n,this.line=e}function o(t,n){var e=n?null:c.now();i("err",[t,e])}var i=t("handle"),a=t(19),s=t("ee"),c=t("loader"),f=t("gos"),u=window.onerror,d=!1,l="nr@seenError",p=0;c.features.err=!0,t(1),window.onerror=r;try{throw new Error}catch(h){"stack"in h&&(t(8),t(7),"addEventListener"in window&&t(5),c.xhrWrappable&&t(9),d=!0)}s.on("fn-start",function(t,n,e){d&&(p+=1)}),s.on("fn-err",function(t,n,e){d&&!e[l]&&(f(e,l,function(){return!0}),this.thrown=!0,o(e))}),s.on("fn-end",function(){d&&!this.thrown&&p>0&&(p-=1)}),s.on("internal-error",function(t){i("ierr",[t,c.now(),!0])})},{}],3:[function(t,n,e){t("loader").features.ins=!0},{}],4:[function(t,n,e){function r(t){}if(window.performance&&window.performance.timing&&window.performance.getEntriesByType){var o=t("ee"),i=t("handle"),a=t(8),s=t(7),c="learResourceTimings",f="addEventListener",u="resourcetimingbufferfull",d="bstResource",l="resource",p="-start",h="-end",m="fn"+p,w="fn"+h,v="bstTimer",y="pushState",g=t("loader");g.features.stn=!0,t(6);var x=NREUM.o.EV;o.on(m,function(t,n){var e=t[0];e instanceof x&&(this.bstStart=g.now())}),o.on(w,function(t,n){var e=t[0];e instanceof x&&i("bst",[e,n,this.bstStart,g.now()])}),a.on(m,function(t,n,e){this.bstStart=g.now(),this.bstType=e}),a.on(w,function(t,n){i(v,[n,this.bstStart,g.now(),this.bstType])}),s.on(m,function(){this.bstStart=g.now()}),s.on(w,function(t,n){i(v,[n,this.bstStart,g.now(),"requestAnimationFrame"])}),o.on(y+p,function(t){this.time=g.now(),this.startPath=location.pathname+location.hash}),o.on(y+h,function(t){i("bstHist",[location.pathname+location.hash,this.startPath,this.time])}),f in window.performance&&(window.performance["c"+c]?window.performance[f](u,function(t){i(d,[window.performance.getEntriesByType(l)]),window.performance["c"+c]()},!1):window.performance[f]("webkit"+u,function(t){i(d,[window.performance.getEntriesByType(l)]),window.performance["webkitC"+c]()},!1)),document[f]("scroll",r,{passive:!0}),document[f]("keypress",r,!1),document[f]("click",r,!1)}},{}],5:[function(t,n,e){function r(t){for(var n=t;n&&!n.hasOwnProperty(u);)n=Object.getPrototypeOf(n);n&&o(n)}function o(t){s.inPlace(t,[u,d],"-",i)}function i(t,n){return t[1]}var a=t("ee").get("events"),s=t(21)(a,!0),c=t("gos"),f=XMLHttpRequest,u="addEventListener",d="removeEventListener";n.exports=a,"getPrototypeOf"in Object?(r(document),r(window),r(f.prototype)):f.prototype.hasOwnProperty(u)&&(o(window),o(f.prototype)),a.on(u+"-start",function(t,n){var e=t[1],r=c(e,"nr@wrapped",function(){function t(){if("function"==typeof e.handleEvent)return e.handleEvent.apply(e,arguments)}var n={object:t,"function":e}[typeof e];return n?s(n,"fn-",null,n.name||"anonymous"):e});this.wrapped=t[1]=r}),a.on(d+"-start",function(t){t[1]=this.wrapped||t[1]})},{}],6:[function(t,n,e){var r=t("ee").get("history"),o=t(21)(r);n.exports=r;var i=window.history&&window.history.constructor&&window.history.constructor.prototype,a=window.history;i&&i.pushState&&i.replaceState&&(a=i),o.inPlace(a,["pushState","replaceState"],"-")},{}],7:[function(t,n,e){var r=t("ee").get("raf"),o=t(21)(r),i="equestAnimationFrame";n.exports=r,o.inPlace(window,["r"+i,"mozR"+i,"webkitR"+i,"msR"+i],"raf-"),r.on("raf-start",function(t){t[0]=o(t[0],"fn-")})},{}],8:[function(t,n,e){function r(t,n,e){t[0]=a(t[0],"fn-",null,e)}function o(t,n,e){this.method=e,this.timerDuration=isNaN(t[1])?0:+t[1],t[0]=a(t[0],"fn-",this,e)}var i=t("ee").get("timer"),a=t(21)(i),s="setTimeout",c="setInterval",f="clearTimeout",u="-start",d="-";n.exports=i,a.inPlace(window,[s,"setImmediate"],s+d),a.inPlace(window,[c],c+d),a.inPlace(window,[f,"clearImmediate"],f+d),i.on(c+u,r),i.on(s+u,o)},{}],9:[function(t,n,e){function r(t,n){d.inPlace(n,["onreadystatechange"],"fn-",s)}function o(){var t=this,n=u.context(t);t.readyState>3&&!n.resolved&&(n.resolved=!0,u.emit("xhr-resolved",[],t)),d.inPlace(t,y,"fn-",s)}function i(t){g.push(t),h&&(b?b.then(a):w?w(a):(E=-E,R.data=E))}function a(){for(var t=0;t<g.length;t++)r([],g[t]);g.length&&(g=[])}function s(t,n){return n}function c(t,n){for(var e in t)n[e]=t[e];return n}t(5);var f=t("ee"),u=f.get("xhr"),d=t(21)(u),l=NREUM.o,p=l.XHR,h=l.MO,m=l.PR,w=l.SI,v="readystatechange",y=["onload","onerror","onabort","onloadstart","onloadend","onprogress","ontimeout"],g=[];n.exports=u;var x=window.XMLHttpRequest=function(t){var n=new p(t);try{u.emit("new-xhr",[n],n),n.addEventListener(v,o,!1)}catch(e){try{u.emit("internal-error",[e])}catch(r){}}return n};if(c(p,x),x.prototype=p.prototype,d.inPlace(x.prototype,["open","send"],"-xhr-",s),u.on("send-xhr-start",function(t,n){r(t,n),i(n)}),u.on("open-xhr-start",r),h){var b=m&&m.resolve();if(!w&&!m){var E=1,R=document.createTextNode(E);new h(a).observe(R,{characterData:!0})}}else f.on("fn-end",function(t){t[0]&&t[0].type===v||a()})},{}],10:[function(t,n,e){function r(){var t=window.NREUM,n=t.info.accountID||null,e=t.info.agentID||null,r=t.info.trustKey||null,i="btoa"in window&&"function"==typeof window.btoa;if(!n||!e||!i)return null;var a={v:[0,1],d:{ty:"Browser",ac:n,ap:e,id:o.generateCatId(),tr:o.generateCatId(),ti:Date.now()}};return r&&n!==r&&(a.d.tk=r),btoa(JSON.stringify(a))}var o=t(16);n.exports={generateTraceHeader:r}},{}],11:[function(t,n,e){function r(t){var n=this.params,e=this.metrics;if(!this.ended){this.ended=!0;for(var r=0;r<p;r++)t.removeEventListener(l[r],this.listener,!1);n.aborted||(e.duration=s.now()-this.startTime,this.loadCaptureCalled||4!==t.readyState?null==n.status&&(n.status=0):a(this,t),e.cbTime=this.cbTime,d.emit("xhr-done",[t],t),c("xhr",[n,e,this.startTime]))}}function o(t,n){var e=t.responseType;if("json"===e&&null!==n)return n;var r="arraybuffer"===e||"blob"===e||"json"===e?t.response:t.responseText;return w(r)}function i(t,n){var e=f(n),r=t.params;r.host=e.hostname+":"+e.port,r.pathname=e.pathname,t.sameOrigin=e.sameOrigin}function a(t,n){t.params.status=n.status;var e=o(n,t.lastSize);if(e&&(t.metrics.rxSize=e),t.sameOrigin){var r=n.getResponseHeader("X-NewRelic-App-Data");r&&(t.params.cat=r.split(", ").pop())}t.loadCaptureCalled=!0}var s=t("loader");if(s.xhrWrappable){var c=t("handle"),f=t(12),u=t(10).generateTraceHeader,d=t("ee"),l=["load","error","abort","timeout"],p=l.length,h=t("id"),m=t(15),w=t(14),v=window.XMLHttpRequest;s.features.xhr=!0,t(9),d.on("new-xhr",function(t){var n=this;n.totalCbs=0,n.called=0,n.cbTime=0,n.end=r,n.ended=!1,n.xhrGuids={},n.lastSize=null,n.loadCaptureCalled=!1,t.addEventListener("load",function(e){a(n,t)},!1),m&&(m>34||m<10)||window.opera||t.addEventListener("progress",function(t){n.lastSize=t.loaded},!1)}),d.on("open-xhr-start",function(t){this.params={method:t[0]},i(this,t[1]),this.metrics={}}),d.on("open-xhr-end",function(t,n){"loader_config"in NREUM&&"xpid"in NREUM.loader_config&&this.sameOrigin&&n.setRequestHeader("X-NewRelic-ID",NREUM.loader_config.xpid);var e=!1;if("init"in NREUM&&"distributed_tracing"in NREUM.init&&(e=!!NREUM.init.distributed_tracing.enabled),e&&this.sameOrigin){var r=u();r&&n.setRequestHeader("newrelic",r)}}),d.on("send-xhr-start",function(t,n){var e=this.metrics,r=t[0],o=this;if(e&&r){var i=w(r);i&&(e.txSize=i)}this.startTime=s.now(),this.listener=function(t){try{"abort"!==t.type||o.loadCaptureCalled||(o.params.aborted=!0),("load"!==t.type||o.called===o.totalCbs&&(o.onloadCalled||"function"!=typeof n.onload))&&o.end(n)}catch(e){try{d.emit("internal-error",[e])}catch(r){}}};for(var a=0;a<p;a++)n.addEventListener(l[a],this.listener,!1)}),d.on("xhr-cb-time",function(t,n,e){this.cbTime+=t,n?this.onloadCalled=!0:this.called+=1,this.called!==this.totalCbs||!this.onloadCalled&&"function"==typeof e.onload||this.end(e)}),d.on("xhr-load-added",function(t,n){var e=""+h(t)+!!n;this.xhrGuids&&!this.xhrGuids[e]&&(this.xhrGuids[e]=!0,this.totalCbs+=1)}),d.on("xhr-load-removed",function(t,n){var e=""+h(t)+!!n;this.xhrGuids&&this.xhrGuids[e]&&(delete this.xhrGuids[e],this.totalCbs-=1)}),d.on("addEventListener-end",function(t,n){n instanceof v&&"load"===t[0]&&d.emit("xhr-load-added",[t[1],t[2]],n)}),d.on("removeEventListener-end",function(t,n){n instanceof v&&"load"===t[0]&&d.emit("xhr-load-removed",[t[1],t[2]],n)}),d.on("fn-start",function(t,n,e){n instanceof v&&("onload"===e&&(this.onload=!0),("load"===(t[0]&&t[0].type)||this.onload)&&(this.xhrCbStart=s.now()))}),d.on("fn-end",function(t,n){this.xhrCbStart&&d.emit("xhr-cb-time",[s.now()-this.xhrCbStart,this.onload,n],n)})}},{}],12:[function(t,n,e){n.exports=function(t){var n=document.createElement("a"),e=window.location,r={};n.href=t,r.port=n.port;var o=n.href.split("://");!r.port&&o[1]&&(r.port=o[1].split("/")[0].split("@").pop().split(":")[1]),r.port&&"0"!==r.port||(r.port="https"===o[0]?"443":"80"),r.hostname=n.hostname||e.hostname,r.pathname=n.pathname,r.protocol=o[0],"/"!==r.pathname.charAt(0)&&(r.pathname="/"+r.pathname);var i=!n.protocol||":"===n.protocol||n.protocol===e.protocol,a=n.hostname===document.domain&&n.port===e.port;return r.sameOrigin=i&&(!n.hostname||a),r}},{}],13:[function(t,n,e){function r(){}function o(t,n,e){return function(){return i(t,[f.now()].concat(s(arguments)),n?null:this,e),n?void 0:this}}var i=t("handle"),a=t(18),s=t(19),c=t("ee").get("tracer"),f=t("loader"),u=NREUM;"undefined"==typeof window.newrelic&&(newrelic=u);var d=["setPageViewName","setCustomAttribute","setErrorHandler","finished","addToTrace","inlineHit","addRelease"],l="api-",p=l+"ixn-";a(d,function(t,n){u[n]=o(l+n,!0,"api")}),u.addPageAction=o(l+"addPageAction",!0),u.setCurrentRouteName=o(l+"routeName",!0),n.exports=newrelic,u.interaction=function(){return(new r).get()};var h=r.prototype={createTracer:function(t,n){var e={},r=this,o="function"==typeof n;return i(p+"tracer",[f.now(),t,e],r),function(){if(c.emit((o?"":"no-")+"fn-start",[f.now(),r,o],e),o)try{return n.apply(this,arguments)}catch(t){throw c.emit("fn-err",[arguments,this,t],e),t}finally{c.emit("fn-end",[f.now()],e)}}}};a("actionText,setName,setAttribute,save,ignore,onEnd,getContext,end,get".split(","),function(t,n){h[n]=o(p+n)}),newrelic.noticeError=function(t,n){"string"==typeof t&&(t=new Error(t)),i("err",[t,f.now(),!1,n])}},{}],14:[function(t,n,e){n.exports=function(t){if("string"==typeof t&&t.length)return t.length;if("object"==typeof t){if("undefined"!=typeof ArrayBuffer&&t instanceof ArrayBuffer&&t.byteLength)return t.byteLength;if("undefined"!=typeof Blob&&t instanceof Blob&&t.size)return t.size;if(!("undefined"!=typeof FormData&&t instanceof FormData))try{return JSON.stringify(t).length}catch(n){return}}}},{}],15:[function(t,n,e){var r=0,o=navigator.userAgent.match(/Firefox[\/\s](\d+\.\d+)/);o&&(r=+o[1]),n.exports=r},{}],16:[function(t,n,e){function r(){function t(){return n?15&n[e++]:16*Math.random()|0}var n=null,e=0,r=window.crypto||window.msCrypto;r&&r.getRandomValues&&(n=r.getRandomValues(new Uint8Array(31)));for(var o,i="xxxxxxxx-xxxx-4xxx-yxxx-xxxxxxxxxxxx",a="",s=0;s<i.length;s++)o=i[s],"x"===o?a+=t().toString(16):"y"===o?(o=3&t()|8,a+=o.toString(16)):a+=o;return a}function o(){function t(){return n?15&n[e++]:16*Math.random()|0}var n=null,e=0,r=window.crypto||window.msCrypto;r&&r.getRandomValues&&Uint8Array&&(n=r.getRandomValues(new Uint8Array(31)));for(var o=[],i=0;i<16;i++)o.push(t().toString(16));return o.join("")}n.exports={generateUuid:r,generateCatId:o}},{}],17:[function(t,n,e){function r(t,n){if(!o)return!1;if(t!==o)return!1;if(!n)return!0;if(!i)return!1;for(var e=i.split("."),r=n.split("."),a=0;a<r.length;a++)if(r[a]!==e[a])return!1;return!0}var o=null,i=null,a=/Version\/(\S+)\s+Safari/;if(navigator.userAgent){var s=navigator.userAgent,c=s.match(a);c&&s.indexOf("Chrome")===-1&&s.indexOf("Chromium")===-1&&(o="Safari",i=c[1])}n.exports={agent:o,version:i,match:r}},{}],18:[function(t,n,e){function r(t,n){var e=[],r="",i=0;for(r in t)o.call(t,r)&&(e[i]=n(r,t[r]),i+=1);return e}var o=Object.prototype.hasOwnProperty;n.exports=r},{}],19:[function(t,n,e){function r(t,n,e){n||(n=0),"undefined"==typeof e&&(e=t?t.length:0);for(var r=-1,o=e-n||0,i=Array(o<0?0:o);++r<o;)i[r]=t[n+r];return i}n.exports=r},{}],20:[function(t,n,e){n.exports={exists:"undefined"!=typeof window.performance&&window.performance.timing&&"undefined"!=typeof window.performance.timing.navigationStart}},{}],21:[function(t,n,e){function r(t){return!(t&&t instanceof Function&&t.apply&&!t[a])}var o=t("ee"),i=t(19),a="nr@original",s=Object.prototype.hasOwnProperty,c=!1;n.exports=function(t,n){function e(t,n,e,o){function nrWrapper(){var r,a,s,c;try{a=this,r=i(arguments),s="function"==typeof e?e(r,a):e||{}}catch(f){l([f,"",[r,a,o],s])}u(n+"start",[r,a,o],s);try{return c=t.apply(a,r)}catch(d){throw u(n+"err",[r,a,d],s),d}finally{u(n+"end",[r,a,c],s)}}return r(t)?t:(n||(n=""),nrWrapper[a]=t,d(t,nrWrapper),nrWrapper)}function f(t,n,o,i){o||(o="");var a,s,c,f="-"===o.charAt(0);for(c=0;c<n.length;c++)s=n[c],a=t[s],r(a)||(t[s]=e(a,f?s+o:o,i,s))}function u(e,r,o){if(!c||n){var i=c;c=!0;try{t.emit(e,r,o,n)}catch(a){l([a,e,r,o])}c=i}}function d(t,n){if(Object.defineProperty&&Object.keys)try{var e=Object.keys(t);return e.forEach(function(e){Object.defineProperty(n,e,{get:function(){return t[e]},set:function(n){return t[e]=n,n}})}),n}catch(r){l([r])}for(var o in t)s.call(t,o)&&(n[o]=t[o]);return n}function l(n){try{t.emit("internal-error",n)}catch(e){}}return t||(t=o),e.inPlace=f,e.flag=a,e}},{}],ee:[function(t,n,e){function r(){}function o(t){function n(t){return t&&t instanceof r?t:t?c(t,s,i):i()}function e(e,r,o,i){if(!l.aborted||i){t&&t(e,r,o);for(var a=n(o),s=m(e),c=s.length,f=0;f<c;f++)s[f].apply(a,r);var d=u[g[e]];return d&&d.push([x,e,r,a]),a}}function p(t,n){y[t]=m(t).concat(n)}function h(t,n){var e=y[t];if(e)for(var r=0;r<e.length;r++)e[r]===n&&e.splice(r,1)}function m(t){return y[t]||[]}function w(t){return d[t]=d[t]||o(e)}function v(t,n){f(t,function(t,e){n=n||"feature",g[e]=n,n in u||(u[n]=[])})}var y={},g={},x={on:p,addEventListener:p,removeEventListener:h,emit:e,get:w,listeners:m,context:n,buffer:v,abort:a,aborted:!1};return x}function i(){return new r}function a(){(u.api||u.feature)&&(l.aborted=!0,u=l.backlog={})}var s="nr@context",c=t("gos"),f=t(18),u={},d={},l=n.exports=o();l.backlog=u},{}],gos:[function(t,n,e){function r(t,n,e){if(o.call(t,n))return t[n];var r=e();if(Object.defineProperty&&Object.keys)try{return Object.defineProperty(t,n,{value:r,writable:!0,enumerable:!1}),r}catch(i){}return t[n]=r,r}var o=Object.prototype.hasOwnProperty;n.exports=r},{}],handle:[function(t,n,e){function r(t,n,e,r){o.buffer([t],r),o.emit(t,n,e)}var o=t("ee").get("handle");n.exports=r,r.ee=o},{}],id:[function(t,n,e){function r(t){var n=typeof t;return!t||"object"!==n&&"function"!==n?-1:t===window?0:a(t,i,function(){return o++})}var o=1,i="nr@id",a=t("gos");n.exports=r},{}],loader:[function(t,n,e){function r(){if(!E++){var t=b.info=NREUM.info,n=p.getElementsByTagName("script")[0];if(setTimeout(u.abort,3e4),!(t&&t.licenseKey&&t.applicationID&&n))return u.abort();f(g,function(n,e){t[n]||(t[n]=e)}),c("mark",["onload",a()+b.offset],null,"api");var e=p.createElement("script");e.src="https://"+t.agent,n.parentNode.insertBefore(e,n)}}function o(){"complete"===p.readyState&&i()}function i(){c("mark",["domContent",a()+b.offset],null,"api")}function a(){return R.exists&&performance.now?Math.round(performance.now()):(s=Math.max((new Date).getTime(),s))-b.offset}var s=(new Date).getTime(),c=t("handle"),f=t(18),u=t("ee"),d=t(17),l=window,p=l.document,h="addEventListener",m="attachEvent",w=l.XMLHttpRequest,v=w&&w.prototype;NREUM.o={ST:setTimeout,SI:l.setImmediate,CT:clearTimeout,XHR:w,REQ:l.Request,EV:l.Event,PR:l.Promise,MO:l.MutationObserver};var y=""+location,g={beacon:"bam.nr-data.net",errorBeacon:"bam.nr-data.net",agent:"js-agent.newrelic.com/nr-1130.min.js"},x=w&&v&&v[h]&&!/CriOS/.test(navigator.userAgent),b=n.exports={offset:s,now:a,origin:y,features:{},xhrWrappable:x,userAgent:d};t(13),p[h]?(p[h]("DOMContentLoaded",i,!1),l[h]("load",r,!1)):(p[m]("onreadystatechange",o),l[m]("onload",r)),c("mark",["firstbyte",s],null,"api");var E=0,R=t(20)},{}]},{},["loader",2,11,4,3]);
  </script>
  <!-- Responsiveness -->
  <meta content="width=device-width, initial-scale=1.0" name="viewport"/>
  <!-- Favicon -->
  <link href="/apple-touch-icon.png" rel="apple-touch-icon" sizes="180x180"/>
  <link href="/favicon-32x32.png" rel="icon" sizes="32x32" type="image/png"/>
  <link href="/favicon-16x16.png" rel="icon" sizes="16x16" type="image/png"/>
  <link href="/manifest.json" rel="manifest"/>
  <link color="#e48b55" href="/safari-pinned-tab.svg" rel="mask-icon"/>
  <meta content="#000000" name="theme-color"/>
  <meta content="authenticity_token" name="csrf-param">
   <meta content="49EMjy0Biwd5tPjaA/Er2wGekLJXgileaQAT6tlweUpCUc7gXKa5oue/UsOu06WSwIw0P+M6Op1dr9lSqrVD7Q==" name="csrf-token">
    <title>
     News  – NASA’s Mars Exploration Program
    </title>
    <meta content="NASA’s Mars Exploration Program " property="og:site_name"/>
    <meta content="mars.nasa.gov" name="author"/>
    <meta content="Mars, missions, NASA, rover, Curiosity, Opportunity, InSight, Mars Reconnaissance Orbiter, facts" name="keywords"/>
    <meta content="NASA’s real-time portal for Mars exploration, featuring the latest news, images, and discoveries from the Red Planet." name="description"/>
    <meta content="NASA’s real-time portal for Mars exploration, featuring the latest news, images, and discoveries from the Red Planet." property="og:description"/>
    <meta content="News  – NASA’s Mars Exploration Program " property="og:title"/>
    <meta content="https://mars.nasa.gov/news" property="og:url"/>
    <meta content="article" property="og:type"/>
    <meta content="2017-09-22 19:53:22 UTC" property="og:updated_time"/>
    <meta content="https://mars.nasa.gov/system/site_config_values/meta_share_images/1_142497main_PIA03154-200.jpg" property="og:image"/>
    <meta content="https://mars.nasa.gov/system/site_config_values/meta_share_images/1_142497main_PIA03154-200.jpg" name="twitter:image"/>
    <link href="https://mars.nasa.gov/system/site_config_values/meta_share_images/1_142497main_PIA03154-200.jpg" rel="image_src"/>
    <meta content="195570401081308" property="fb:app_id"/>
    <link href="https://fonts.googleapis.com/css?family=Montserrat:200,300,400,500,600,700|Raleway:300,400" rel="stylesheet"/>
    <link href="/assets/public_manifest-06a3a3fd9dcf8ff35fbbf7a115852940defdb85bd2b0146f33a530b10fb54ea2.css" media="all" rel="stylesheet">
     <link href="/assets/mbcms/vendor/jquery.fancybox3-364352e03618ba5a8da007665b1f0be31795293b22bc4d7c5974891d4976a137.css" media="screen" rel="stylesheet">
      <link href="/assets/gulp/print-240f8bfaa7f6402dfd6c49ee3c1ffea57a89ddd4c8c90e2f2a5c7d63c5753e32.css" media="print" rel="stylesheet">
       <script src="/assets/public_manifest-4fb3b0c7c51814caa5c6846f681489dd89d2c3c3023d548f38d163139aead4da.js">
       </script>
       <script src="/assets/mbcms/vendor/jquery.fancybox3-bd48876205805faa43a79e74b656191a4ad37809923b4f3247b571ba82d4458c.js">
       </script>
       <script src="/assets/mb_manifest-cc73b69b69c4b16ca839a2975bd4f81f88a4a187d1162469a40a64c300ac1ea6.js">
       </script>
       <!--[if gt IE 8]><!-->
       <script src="/assets/not_ie8_manifest.js">
       </script>
       <!--[if !IE]>-->
       <script src="/assets/not_ie8_manifest.js">
       </script>
       <!--<![endif]-->
       <!-- /twitter cards -->
       <meta content="summary_large_image" name="twitter:card"/>
       <meta content="News " name="twitter:title"/>
       <meta content="NASA’s real-time portal for Mars exploration, featuring the latest news, images, and discoveries from the Red Planet." name="twitter:description"/>
       <meta content="https://mars.nasa.gov/system/site_config_values/meta_share_images/1_142497main_PIA03154-200.jpg" name="twitter:image"/>
      </link>
     </link>
    </link>
   </meta>
  </meta>
 </head>
 <body id="news">
  <svg display="none" height="0" width="0">
   <symbol height="30" id="circle_plus" viewbox="0 0 30 30" width="30">
    <g fill-rule="evenodd" transform="translate(1 1)">
     <circle cx="14" cy="14" fill="#fff" fill-opacity=".1" fill-rule="nonzero" r="14" stroke="inherit" stroke-width="1">
     </circle>
     <path class="the_plus" d="m18.856 12.96v1.738h-4.004v3.938h-1.848v-3.938h-4.004v-1.738h4.004v-3.96h1.848v3.96z" fill="inherit" stroke-width="0">
     </path>
    </g>
   </symbol>
   <symbol height="30" id="circle_arrow" viewbox="0 0 30 30" width="30" xmlns="http://www.w3.org/2000/svg">
    <g transform="translate(1 1)">
     <circle cx="14" cy="14" fill="#fff" fill-opacity=".1" r="14" stroke="inherit" stroke-width="1">
     </circle>
     <path class="the_arrow" d="m8.5 15.00025h7.984l-2.342 2.42c-.189.197-.189.518 0 .715l.684.717c.188.197.494.197.684 0l4.35-4.506c.188-.199.188-.52 0-.717l-4.322-4.48c-.189-.199-.496-.199-.684 0l-.684.716c-.189.197-.189.519 0 .716l2.341 2.419h-8.011c-.276 0-.5.223-.5.5v1c0 .275.224.5.5.5z" fill="inherit" stroke-width="0">
     </path>
    </g>
   </symbol>
   <symbol height="30" id="circle_close" viewbox="0 0 30 30" width="30">
    <g fill-rule="evenodd" transform="translate(1 1)">
     <circle cx="14" cy="14" fill="blue" fill-opacity="1" fill-rule="nonzero" r="14" stroke="inherit" stroke-width="1">
     </circle>
     <path class="the_plus" d="m18.856 12.96v1.738h-4.004v3.938h-1.848v-3.938h-4.004v-1.738h4.004v-3.96h1.848v3.96z" fill="inherit" stroke-width="0">
     </path>
    </g>
   </symbol>
   <symbol height="30" id="circle_close_hover" viewbox="0 0 30 30" width="30">
    <g fill-rule="evenodd" transform="translate(1 1)">
     <circle cx="14" cy="14" fill="white" fill-opacity="1" fill-rule="nonzero" r="14" stroke="inherit" stroke-width="1">
     </circle>
     <path class="the_plus" d="m18.856 12.96v1.738h-4.004v3.938h-1.848v-3.938h-4.004v-1.738h4.004v-3.96h1.848v3.96z" fill="inherit" stroke-width="0">
     </path>
    </g>
   </symbol>
   <symbol height="6" id="chevron_down" viewbox="0 0 10 6" width="10" xmlns="http://www.w3.org/2000/svg">
    <path d="m59 7v2.72727273l5 3.27272727 5-3.27272727v-2.72727273l-5 3.2727273z" transform="translate(-59 -7)">
    </path>
   </symbol>
   <symbol height="16" id="gear" viewbox="0 0 16 16" width="16" xmlns="http://www.w3.org/2000/svg">
    <path d="m68 9h-1.09c-.15-.91-.5-1.75-1.021-2.471l.761-.77c.39-.39.39-1.029 0-1.42-.391-.39-1.021-.39-1.41 0l-.771.77c-.719-.519-1.469-.869-2.469-1.019v-1.09c0-.55-.45-1-1-1s-1 .45-1 1v1.09c-1 .15-1.75.5-2.47 1.02l-.77-.77c-.389-.39-1.029-.39-1.42 0-.39.391-.39 1.03 0 1.42l.771.77c-.521.72-.871 1.56-1.021 2.47h-1.09c-.55 0-1 .48-1 1.029 0 .551.45.971 1.12.971h.97c.15.91.5 1.75 1.021 2.471l-.771.769c-.39.39-.39 1.029 0 1.42.391.39 1.021.39 1.41 0l.78-.77c.72.52 1.47.87 2.47 1.02v1.09c0 .55.45 1 1 1s1-.45 1-1v-1.09c1-.15 1.75-.5 2.47-1.02l.771.77c.391.39 1.02.39 1.41 0 .39-.391.39-1.03 0-1.42l-.761-.76c.51-.72.87-1.56 1.02-2.48h1.09c.55 0 1-.45 1-1s-.45-1-1-1zm-7 4c-1.66 0-3-1.35-3-3s1.34-3 3-3c1.65 0 3 1.35 3 3s-1.35 3-3 3z" fill="#a79693" transform="translate(-53 -2)">
    </path>
   </symbol>
  </svg>
  <div data-react-class="BrowseHappier" data-react-props='{"gt":1,"lt":11}'>
  </div>
  <div data-react-class="HiPO" data-react-props="{}">
  </div>
  <div id="main_container">
   <div id="site_body">
    <div class="site_header_area">
     <header class="site_header">
      <div class="brand_area">
       <div class="brand1">
        <a class="nasa_logo" href="http://www.nasa.gov" target="_blank" title="visit nasa.gov">
         NASA
        </a>
       </div>
       <div class="brand2">
        <a class="top_logo" href="https://science.nasa.gov/" target="_blank" title="Explore NASA Science">
         NASA Science
        </a>
        <a class="sub_logo" href="/mars-exploration/#" title="Mars">
         Mars Exploration Program
        </a>
       </div>
       <img alt="" class="print_only print_logo" src="/assets/logo_nasa_trio_black@2x.png"/>
      </div>
      <a class="visuallyhidden focusable" href="#page">
       Skip Navigation
      </a>
      <div class="right_header_container">
       <a class="menu_button" href="javascript:void(0);" id="menu_button">
        <span class="menu_icon">
         menu
        </span>
       </a>
       <a class="modal_close" id="modal_close">
        <span class="modal_close_icon">
        </span>
       </a>
       <div class="nav_area">
        <div id="site_nav_container">
         <nav class="site_nav" data-react-class="Meganav" data-react-props='{"nav_items":[{"name":"The Red Planet","link":"/#red_planet","target":"_self","sections":[{"items":[{"name":"Dashboard","link":"/#red_planet/0","target":"_self","id":9},{"name":"Science Goals","link":"/#red_planet/1","target":"_self","id":13},{"name":"The Planet","link":"/#red_planet/2","target":"_self","id":14},{"name":"Atmosphere","link":"/#red_planet/3","target":"_self","id":16},{"name":"Astrobiology","link":"/#red_planet/4","target":"_self","id":17},{"name":"Past, Present, Future, Timeline","link":"/#red_planet/5","target":"_self","id":18}]}],"id":3,"meganav_style":"","features":[],"short_description":null},{"name":"The Program","link":"/#mars_exploration_program","target":"_self","sections":[{"items":[{"name":"Mission Statement","link":"/#mars_exploration_program/0","target":"_self","id":8},{"name":"About the Program","link":"/#mars_exploration_program/1","target":"_self","id":42},{"name":"Organization","link":"/#mars_exploration_program/2","target":"_self","id":43},{"name":"Why Mars?","link":"/#mars_exploration_program/3","target":"_self","id":51},{"name":"Research Programs","link":"/#mars_exploration_program/4","target":"_self","id":44},{"name":"Planetary Resources","link":"/#mars_exploration_program/5","target":"_self","id":52},{"name":"Technologies","link":"/#mars_exploration_program/6","target":"_self","id":56}]}],"id":2,"meganav_style":"","features":[],"short_description":null},{"name":"News \u0026 Events","link":"/#news_and_events","target":"_self","sections":[{"items":[{"name":"News","link":"/news","target":"_self","id":92},{"name":"Events","link":"/events","target":"_self","id":93}]}],"id":4,"meganav_style":"","features":[],"short_description":null},{"name":"Multimedia","link":"/#multimedia","target":"_self","sections":[{"items":[{"name":"Images","link":"/multimedia/images/","target":"_self","id":90},{"name":"Videos","link":"/multimedia/videos/","target":"_self","id":91}]}],"id":5,"meganav_style":"","features":[],"short_description":null},{"name":"Missions","link":"/#missions","target":"_self","sections":[{"items":[{"name":"Past","link":"/mars-exploration/missions/?category=167","target":"_self","id":38},{"name":"Present","link":"/mars-exploration/missions/?category=170","target":"_self","id":59},{"name":"Future","link":"/mars-exploration/missions/?category=171","target":"_self","id":60},{"name":"International Partners","link":"/mars-exploration/partners","target":"_self","id":40}]}],"id":6,"meganav_style":"","features":[],"short_description":null},{"name":"More","link":"/#more","target":"_self","sections":[],"id":7,"meganav_style":"","features":[],"short_description":null},{"name":"Legacy Site","link":"/legacy","target":"_self","sections":[],"id":87,"meganav_style":"","features":[],"short_description":null}],"search":true,"search_placeholder":{"placeholder":""},"highlight_current":{"highlight":true,"current_id":83,"parent_ids":[]},"subnav_only":true,"search_submit":"/search/"}'>
         </nav>
        </div>
       </div>
      </div>
     </header>
    </div>
    <div id="sticky_nav_spacer">
    </div>
    <div id="page">
     <!-- title to go in the page_header -->
     <div class="header_mask">
      <section class="content_page module">
      </section>
     </div>
     <div class="grid_list_page module content_page">
      <div class="grid_layout">
       <article>
        <header id="page_header">
        </header>
        <div class="react_grid_list grid_list_container" data-react-class="GridListPage" data-react-props='{"left_column":false,"class_name":"","default_view":"list_view","model":"news_items","view_toggle":false,"search":"true","list_item":"News","title":"News","categories":["19,165,184,204"],"order":"publish_date desc,created_at desc","no_items_text":"There are no items matching these criteria.","site_title":"NASA’s Mars Exploration Program ","short_title":"Mars","site_share_image":"/system/site_config_values/meta_share_images/1_142497main_PIA03154-200.jpg","per_page":null,"filters":"[ [ \"date\", [ [ \"2019\", \"2019\" ], [ \"2018\", \"2018\" ], [ \"2017\", \"2017\" ], [ \"2016\", \"2016\" ], [ \"2015\", \"2015\" ], [ \"2014\", \"2014\" ], [ \"2013\", \"2013\" ], [ \"2012\", \"2012\" ], [ \"2011\", \"2011\" ], [ \"2010\", \"2010\" ], [ \"2009\", \"2009\" ], [ \"2008\", \"2008\" ], [ \"2007\", \"2007\" ], [ \"2006\", \"2006\" ], [ \"2005\", \"2005\" ], [ \"2004\", \"2004\" ], [ \"2003\", \"2003\" ], [ \"2002\", \"2002\" ], [ \"2001\", \"2001\" ], [ \"2000\", \"2000\" ] ], [ \"Latest\", \"\" ], false ], [ \"categories\", [ [ \"Feature Stories\", 165 ], [ \"Press Releases\", 19 ], [ \"Spotlights\", 184 ], [ \"Status Reports\", 204 ] ], [ \"All Categories\", \"\" ], false ] ]","conditions":null,"scope_in_title":true,"options":{"blank_scope":"Latest"},"results_in_title":false}'>
        </div>
       </article>
      </div>
     </div>
     <section class="module suggested_features">
      <div class="grid_layout">
       <header>
        <h2 class="module_title">
         You Might Also Like
        </h2>
       </header>
       <section>
        <script>
         $(document).ready(function(){
    $(".features").slick({
      dots: false,
      infinite: true,
      speed: 300,
      slide: '.features .slide',
      slidesToShow: 3,
      slidesToScroll: 3,
      lazyLoad: 'ondemand',
      centerMode: false,
      arrows: true,
      appendArrows: '.features .slick-nav',
      appendDots: ".features .slick-nav",
      responsive: [{"breakpoint":953,"settings":{"slidesToShow":2,"slidesToScroll":2,"centerMode":false}},{"breakpoint":480,"settings":{"slidesToShow":1,"slidesToScroll":1,"centerMode":true,"arrows":false,"centerPadding":"25px"}}]
    });
  });
        </script>
        <div class="features">
         <div class="slide">
          <div class="image_and_description_container">
           <a href="/news/8442/nasas-curiosity-mars-rover-finds-a-clay-cache/">
            <div class="rollover_description">
             <div class="rollover_description_inner">
              The rover recently drilled two samples, and both showed the highest levels of clay ever found during the mission.
             </div>
             <div class="overlay_arrow">
              <img alt="More" src="/assets/overlay-arrow.png"/>
             </div>
            </div>
            <img alt="NASA's Curiosity Mars Rover Finds a Clay Cache" class="img-lazy" data-lazy="/system/news_items/list_view_images/8442_PIA23240_32x24.jpg" src="/assets/loading_320x240.png"/>
           </a>
          </div>
          <div class="content_title">
           <a href="/news/8442/nasas-curiosity-mars-rover-finds-a-clay-cache/">
            NASA's Curiosity Mars Rover Finds a Clay Cache
           </a>
          </div>
         </div>
         <div class="slide">
          <div class="image_and_description_container">
           <a href="/news/8436/why-this-martian-full-moon-looks-like-candy/">
            <div class="rollover_description">
             <div class="rollover_description_inner">
              For the first time, NASA's Mars Odyssey orbiter has caught the Martian moon Phobos during a full moon phase. Each color in this new image represents a temperature range detected by Odyssey's infrared camera.
             </div>
             <div class="overlay_arrow">
              <img alt="More" src="/assets/overlay-arrow.png"/>
             </div>
            </div>
            <img alt="Why This Martian Full Moon Looks Like Candy" class="img-lazy" data-lazy="/system/news_items/list_view_images/8436_PIA23205_annotated-32x24.jpg" src="/assets/loading_320x240.png"/>
           </a>
          </div>
          <div class="content_title">
           <a href="/news/8436/why-this-martian-full-moon-looks-like-candy/">
            Why This Martian Full Moon Looks Like Candy
           </a>
          </div>
         </div>
         <div class="slide">
          <div class="image_and_description_container">
           <a href="/news/8426/nasa-garners-7-webby-award-nominations/">
            <div class="rollover_description">
             <div class="rollover_description_inner">
              Nominees include four JPL projects: the solar system and climate websites, InSight social media, and a 360-degree Earth video. Public voting closes April 18, 2019.
             </div>
             <div class="overlay_arrow">
              <img alt="More" src="/assets/overlay-arrow.png"/>
             </div>
            </div>
            <img alt="NASA Garners 7 Webby Award Nominations" class="img-lazy" data-lazy="/system/news_items/list_view_images/8426_Webby2019-320x240.jpg" src="/assets/loading_320x240.png"/>
           </a>
          </div>
          <div class="content_title">
           <a href="/news/8426/nasa-garners-7-webby-award-nominations/">
            NASA Garners 7 Webby Award Nominations
           </a>
          </div>
         </div>
         <div class="slide">
          <div class="image_and_description_container">
           <a href="/news/8413/nasas-opportunity-rover-mission-on-mars-comes-to-end/">
            <div class="rollover_description">
             <div class="rollover_description_inner">
              NASA's Opportunity Mars rover mission is complete after 15 years on Mars. Opportunity's record-breaking exploration laid the groundwork for future missions to the Red Planet.
             </div>
             <div class="overlay_arrow">
              <img alt="More" src="/assets/overlay-arrow.png"/>
             </div>
            </div>
            <img alt="NASA's Opportunity Rover Mission on Mars Comes to End" class="img-lazy" data-lazy="/system/news_items/list_view_images/8413_PIA06739-320x240.jpg" src="/assets/loading_320x240.png"/>
           </a>
          </div>
          <div class="content_title">
           <a href="/news/8413/nasas-opportunity-rover-mission-on-mars-comes-to-end/">
            NASA's Opportunity Rover Mission on Mars Comes to End
           </a>
          </div>
         </div>
         <div class="slide">
          <div class="image_and_description_container">
           <a href="/news/8402/nasas-insight-places-first-instrument-on-mars/">
            <div class="rollover_description">
             <div class="rollover_description_inner">
              In deploying its first instrument onto the surface of Mars, the lander completes a major mission milestone.
             </div>
             <div class="overlay_arrow">
              <img alt="More" src="/assets/overlay-arrow.png"/>
             </div>
            </div>
            <img alt="NASA's InSight Places First Instrument on Mars" class="img-lazy" data-lazy="/system/news_items/list_view_images/8402_PIA22977_SEIS_deploy_IDC_calibrated-th.gif" src="/assets/loading_320x240.png"/>
           </a>
          </div>
          <div class="content_title">
           <a href="/news/8402/nasas-insight-places-first-instrument-on-mars/">
            NASA's InSight Places First Instrument on Mars
           </a>
          </div>
         </div>
         <div class="slide">
          <div class="image_and_description_container">
           <a href="/news/8387/nasa-announces-landing-site-for-mars-2020-rover/">
            <div class="rollover_description">
             <div class="rollover_description_inner">
              After a five-year search, NASA has chosen Jezero Crater as the landing site for its upcoming Mars 2020 rover mission.
             </div>
             <div class="overlay_arrow">
              <img alt="More" src="/assets/overlay-arrow.png"/>
             </div>
            </div>
            <img alt="NASA Announces Landing Site for Mars 2020 Rover" class="img-lazy" data-lazy="/system/news_items/list_view_images/8387_JezeroCrater-320x240.jpg" src="/assets/loading_320x240.png"/>
           </a>
          </div>
          <div class="content_title">
           <a href="/news/8387/nasa-announces-landing-site-for-mars-2020-rover/">
            NASA Announces Landing Site for Mars 2020 Rover
           </a>
          </div>
         </div>
         <div class="grid_layout">
          <div class="slick-nav_container">
           <div class="slick-nav">
           </div>
          </div>
         </div>
        </div>
       </section>
      </div>
     </section>
    </div>
    <footer id="site_footer">
     <div class="grid_layout">
      <section class="upper_footer">
       <div class="share">
        <h2>
         Follow the Journey
        </h2>
        <div class="social_icons">
         <!-- AddThis Button BEGIN -->
         <div class="addthis_toolbox addthis_default_style addthis_32x32_style">
          <a addthis:userid="MarsCuriosity" class="addthis_button_twitter_follow icon">
           <img alt="twitter" src="/assets/twitter_icon@2x.png"/>
          </a>
          <a addthis:userid="MarsCuriosity" class="addthis_button_facebook_follow icon">
           <img alt="facebook" src="/assets/facebook_icon@2x.png"/>
          </a>
          <a addthis:userid="nasa" class="addthis_button_instagram_follow icon">
           <img alt="instagram" src="/assets/instagram_icon@2x.png"/>
          </a>
          <a addthis:url="https://mars.nasa.gov/rss/api/?feed=news&amp;category=all&amp;feedtype=rss" class="addthis_button_rss_follow icon">
           <img alt="rss" src="/assets/rss_icon@2x.png"/>
          </a>
         </div>
        </div>
        <script>
         addthis_loader.init("//s7.addthis.com/js/300/addthis_widget.js#pubid=ra-5a690e4c1320e328", {follow: true})
  
  // AddThis Button END
        </script>
       </div>
       <div class="gradient_line">
       </div>
      </section>
      <section class="sitemap">
       <div class="sitemap_directory" id="sitemap_directory">
        <div class="sitemap_block">
         <div class="footer_sitemap_item">
          <h3 class="sitemap_title">
           <a href="/#red_planet">
            The Red Planet
           </a>
          </h3>
          <ul>
           <li>
            <div class="global_subnav_container">
             <ul class="subnav">
              <li>
               <a href="/#red_planet/0" target="_self">
                Dashboard
               </a>
              </li>
              <li>
               <a href="/#red_planet/1" target="_self">
                Science Goals
               </a>
              </li>
              <li>
               <a href="/#red_planet/2" target="_self">
                The Planet
               </a>
              </li>
              <li>
               <a href="/#red_planet/3" target="_self">
                Atmosphere
               </a>
              </li>
              <li>
               <a href="/#red_planet/4" target="_self">
                Astrobiology
               </a>
              </li>
              <li>
               <a href="/#red_planet/5" target="_self">
                Past, Present, Future, Timeline
               </a>
              </li>
             </ul>
            </div>
           </li>
          </ul>
         </div>
        </div>
        <div class="sitemap_block">
         <div class="footer_sitemap_item">
          <h3 class="sitemap_title">
           <a href="/#mars_exploration_program">
            The Program
           </a>
          </h3>
          <ul>
           <li>
            <div class="global_subnav_container">
             <ul class="subnav">
              <li>
               <a href="/#mars_exploration_program/0" target="_self">
                Mission Statement
               </a>
              </li>
              <li>
               <a href="/#mars_exploration_program/1" target="_self">
                About the Program
               </a>
              </li>
              <li>
               <a href="/#mars_exploration_program/2" target="_self">
                Organization
               </a>
              </li>
              <li>
               <a href="/#mars_exploration_program/3" target="_self">
                Why Mars?
               </a>
              </li>
              <li>
               <a href="/#mars_exploration_program/4" target="_self">
                Research Programs
               </a>
              </li>
              <li>
               <a href="/#mars_exploration_program/5" target="_self">
                Planetary Resources
               </a>
              </li>
              <li>
               <a href="/#mars_exploration_program/6" target="_self">
                Technologies
               </a>
              </li>
             </ul>
            </div>
           </li>
          </ul>
         </div>
        </div>
        <div class="sitemap_block">
         <div class="footer_sitemap_item">
          <h3 class="sitemap_title">
           <a href="/#news_and_events">
            News &amp; Events
           </a>
          </h3>
          <ul>
           <li>
            <div class="global_subnav_container">
             <ul class="subnav">
              <li class="current">
               <a href="/news" target="_self">
                News
               </a>
              </li>
              <li>
               <a href="/events" target="_self">
                Events
               </a>
              </li>
             </ul>
            </div>
           </li>
          </ul>
         </div>
        </div>
        <div class="sitemap_block">
         <div class="footer_sitemap_item">
          <h3 class="sitemap_title">
           <a href="/#multimedia">
            Multimedia
           </a>
          </h3>
          <ul>
           <li>
            <div class="global_subnav_container">
             <ul class="subnav">
              <li>
               <a href="/multimedia/images/" target="_self">
                Images
               </a>
              </li>
              <li>
               <a href="/multimedia/videos/" target="_self">
                Videos
               </a>
              </li>
             </ul>
            </div>
           </li>
          </ul>
         </div>
        </div>
        <div class="sitemap_block">
         <div class="footer_sitemap_item">
          <h3 class="sitemap_title">
           <a href="/#missions">
            Missions
           </a>
          </h3>
          <ul>
           <li>
            <div class="global_subnav_container">
             <ul class="subnav">
              <li>
               <a href="/mars-exploration/missions/?category=167" target="_self">
                Past
               </a>
              </li>
              <li>
               <a href="/mars-exploration/missions/?category=170" target="_self">
                Present
               </a>
              </li>
              <li>
               <a href="/mars-exploration/missions/?category=171" target="_self">
                Future
               </a>
              </li>
              <li>
               <a href="/mars-exploration/partners" target="_self">
                International Partners
               </a>
              </li>
             </ul>
            </div>
           </li>
          </ul>
         </div>
        </div>
        <div class="sitemap_block">
         <div class="footer_sitemap_item">
          <h3 class="sitemap_title">
           <a href="/#more">
            More
           </a>
          </h3>
          <ul>
           <li>
            <div class="global_subnav_container">
             <ul class="subnav">
             </ul>
            </div>
           </li>
          </ul>
         </div>
        </div>
        <div class="sitemap_block">
         <div class="footer_sitemap_item">
          <h3 class="sitemap_title">
           <a href="/legacy">
            Legacy Site
           </a>
          </h3>
          <ul>
           <li>
            <div class="global_subnav_container">
             <ul class="subnav">
              <li>
               <a class="" href="/legacy" target="_self">
                Legacy Site
               </a>
              </li>
             </ul>
            </div>
           </li>
          </ul>
         </div>
        </div>
       </div>
       <div class="gradient_line">
       </div>
      </section>
      <section class="lower_footer">
       <div class="nav_container">
        <nav>
         <ul>
          <li>
           <a href="http://science.nasa.gov/" target="_blank">
            NASA Science Mission Directorate
           </a>
          </li>
          <li>
           <a href="https://www.jpl.nasa.gov/copyrights.php" target="_blank">
            Privacy
           </a>
          </li>
          <li>
           <a href="http://www.jpl.nasa.gov/imagepolicy/" target="_blank">
            Image Policy
           </a>
          </li>
          <li>
           <a href="https://mars.nasa.gov/feedback/" target="_self">
            Feedback
           </a>
          </li>
          <li>
           <a href="http://mars.nasa.gov/legacy" target="_blank">
            Legacy Mars Site
           </a>
          </li>
         </ul>
        </nav>
       </div>
       <div class="credits">
        <div class="footer_brands_top">
         <p>
          Managed by the Mars Exploration Program and the Jet Propulsion Laboratory for NASA’s Science Mission Directorate
         </p>
        </div>
        <!-- .footer_brands -->
        <!-- %a.jpl{href: "", target: "_blank"}Institution -->
        <!-- -->
        <!-- %a.caltech{href: "", target: "_blank"}Institution -->
        <!-- .staff -->
        <!-- %p -->
        <!-- - get_staff_for_category(get_field_from_admin_config(:web_staff_category_id)) -->
        <!-- - @staff.each_with_index do |staff, idx| -->
        <!-- - unless staff.is_in_footer == 0 -->
        <!-- = staff.title + ": " -->
        <!-- - if staff.contact_link =~ /@/ -->
        <!-- = mail_to staff.contact_link, staff.name, :subject => "[#{@site_title}]" -->
        <!-- - elsif staff.contact_link.present? -->
        <!-- = link_to staff.name, staff.contact_link -->
        <!-- - else -->
        <!-- = staff.name -->
        <!-- - unless (idx + 1 == @staff.size) -->
        <!-- %br -->
       </div>
      </section>
     </div>
    </footer>
   </div>
  </div>
  <script id="_fed_an_ua_tag" src="https://dap.digitalgov.gov/Universal-Federated-Analytics-Min.js?agency=NASA&amp;subagency=JPL-Mars-MEPJPL&amp;pua=UA-9453474-9,UA-118212757-11&amp;dclink=true&amp;sp=searchbox&amp;exts=tif,tiff,wav" type="text/javascript">
  </script>
 </body>
 </html>
 # collect the latest News Title
results_t = soup_news.find_all('div', class_='content_title')

#strip the string from tags
news_title = results_t[-1].text

print(news_title)
print(type(news_title))

# ABSOLUTE LATEST NEWS NOT SHOWING UP IN THE HTML 'SOUP'. WHY?
NASA Announces Landing Site for Mars 2020 Rover


<class 'str'>
# collect the latest Paragraph for title
results_p = soup_news.find_all('div', class_='rollover_description_inner')

# strip the string from tags
news_p = results_p[-1].text 

print(news_p)

#ensure it is a string
print(type(news_p))
After a five-year search, NASA has chosen Jezero Crater as the landing site for its upcoming Mars 2020 rover mission.

<class 'str'>
#MARS Spacs Images-Featured Image
# Instructions
# Visit the url for JPL Featured Space Image.
# Use splinter to navigate the site and find the image url
# for the current Featured Mars Image and assign the url string to a variable called featured_image_url.
# Make sure to find the image url to the full size .jpg image.
# Make sure to save a complete url string for this image.
# https://splinter.readthedocs.io/en/latest/drivers/chrome.html
# check location for my chrome driver
!which chromedriver
/usr/local/bin/chromedriver
executable_path = {'executable_path': '/usr/local/bin/chromedriver'}
browser = Browser('chrome', **executable_path, headless=True)
url_jpl = 'https://www.jpl.nasa.gov/spaceimages/?search=&category=Mars'
browser.visit(url_jpl)
html_jpl = browser.html
soup_jpl = bs(html_jpl, 'html.parser')

#print to ensure it worked

# print(soup.prettify())
# found the 'Full Image' button by using Inspect on the website.

# <footer>
#<a class="button fancybox" 
# data-description="This before-and-after pair of images of the same patch of ground in front of NASA's Mars Exploration Rover Opportunity 13 days apart documents the arrival of a bright rock onto the scene." 
# data-fancybox-group="images" data-fancybox-href="/spaceimages/images/mediumsize/PIA17761_ip.jpg"
# data-link="/spaceimages/details.php?id=PIA17761" 
# data-title="Rock That Appeared in Front of Opportunity on 'Murray Ridge'" id="full_image">
# FULL IMAGE
# </a>
# </footer>


image = soup_jpl.find('footer').find('a')

# image

link = image['data-fancybox-href']
# link
# create dynamic url and store it in a variable
feature_image_url = f"https://www.jpl.nasa.gov{link}"
feature_image_url
'https://www.jpl.nasa.gov/spaceimages/images/mediumsize/PIA19639_ip.jpg'
#Beautiful Soup-Mars Weather
# Instructions
# Visit the Mars Weather twitter account here and scrape the latest Mars weather tweet from the page.
# Save the tweet text for the weather report as a variable called mars_weather.
# Example:
# mars_weather = 'Sol 1801 (Aug 30, 2017), Sunny, high -21C/-5F, 
# low -80C/-112F, pressure at 8.82 hPa, daylight 06:09-17:55'
# URL of page to be scraped
url_tweet = 'https://twitter.com/marswxreport?lang=en'
# Retrieve page with the requests module
response_tweet = requests.get(url_tweet)
soup_tweet = bs(response_tweet.text, 'html.parser')
print(soup_tweet.prettify())
<!DOCTYPE html>
<html data-scribe-reduced-action-queue="true" lang="en">
 <head>
  <meta charset="utf-8"/>
  <script nonce="KHqEA43IsvT9BexzRYIzuA==">
   !function(){window.initErrorstack||(window.initErrorstack=[]),window.onerror=function(r,i,n,o,t){r.indexOf("Script error.")>-1||window.initErrorstack.push({errorMsg:r,url:i,lineNumber:n,column:o,errorObj:t})}}();
  </script>
  <script id="bouncer_terminate_iframe" nonce="KHqEA43IsvT9BexzRYIzuA==">
   if (window.top != window) {
  window.top.postMessage({'bouncer': true, 'event': 'complete'}, '*');
}
  </script>
  <script id="swift_action_queue" nonce="KHqEA43IsvT9BexzRYIzuA==">
   !function(){function e(e){if(e||(e=window.event),!e)return!1;if(e.timestamp=(new Date).getTime(),!e.target&&e.srcElement&&(e.target=e.srcElement),document.documentElement.getAttribute("data-scribe-reduced-action-queue"))for(var t=e.target;t&&t!=document.body;){if("A"==t.tagName)return;t=t.parentNode}return i("all",o(e)),a(e)?(document.addEventListener||(e=o(e)),e.preventDefault=e.stopPropagation=e.stopImmediatePropagation=function(){},y?(v.push(e),i("captured",e)):i("ignored",e),!1):(i("direct",e),!0)}function t(e){n();for(var t,r=0;t=v[r];r++){var a=e(t.target),i=a.closest("a")[0];if("click"==t.type&&i){var o=e.data(i,"events"),u=o&&o.click,c=!i.hostname.match(g)||!i.href.match(/#$/);if(!u&&c){window.location=i.href;continue}}a.trigger(e.event.fix(t))}window.swiftActionQueue.wasFlushed=!0}function r(){for(var e in b)if("all"!=e)for(var t=b[e],r=0;r<t.length;r++)console.log("actionQueue",c(t[r]))}function n(){clearTimeout(w);for(var e,t=0;e=h[t];t++)document["on"+e]=null}function a(e){if(!e.target)return!1;var t=e.target,r=(t.tagName||"").toLowerCase();if(e.metaKey)return!1;if(e.shiftKey&&"a"==r)return!1;if(t.hostname&&!t.hostname.match(g))return!1;if(e.type.match(p)&&s(t))return!1;if("label"==r){var n=t.getAttribute("for");if(n){var a=document.getElementById(n);if(a&&f(a))return!1}else for(var i,o=0;i=t.childNodes[o];o++)if(f(i))return!1}return!0}function i(e,t){t.bucket=e,b[e].push(t)}function o(e){var t={};for(var r in e)t[r]=e[r];return t}function u(e){for(;e&&e!=document.body;){if("A"==e.tagName)return e;e=e.parentNode}}function c(e){var t=[];e.bucket&&t.push("["+e.bucket+"]"),t.push(e.type);var r,n,a=e.target,i=u(a),o="",c=e.timestamp&&e.timestamp-d;return"click"===e.type&&i?(r=i.className.trim().replace(/\s+/g,"."),n=i.id.trim(),o=/[^#]$/.test(i.href)?" ("+i.href+")":"",a='"'+i.innerText.replace(/\n+/g," ").trim()+'"'):(r=a.className.trim().replace(/\s+/g,"."),n=a.id.trim(),a=a.tagName.toLowerCase(),e.keyCode&&(a=String.fromCharCode(e.keyCode)+" : "+a)),t.push(a+o+(n&&"#"+n)+(!n&&r?"."+r:"")),c&&t.push(c),t.join(" ")}function f(e){var t=(e.tagName||"").toLowerCase();return"input"==t&&"checkbox"==e.getAttribute("type")}function s(e){var t=(e.tagName||"").toLowerCase();return"textarea"==t||"input"==t&&"text"==e.getAttribute("type")||"true"==e.getAttribute("contenteditable")}for(var m,d=(new Date).getTime(),l=1e4,g=/^([^\.]+\.)*twitter\.com$/,p=/^key/,h=["click","keydown","keypress","keyup"],v=[],w=null,y=!0,b={captured:[],ignored:[],direct:[],all:[]},k=0;m=h[k];k++)document["on"+m]=e;w=setTimeout(function(){y=!1},l),window.swiftActionQueue={buckets:b,flush:t,logActions:r,wasFlushed:!1}}();
  </script>
  <script id="composition_state" nonce="KHqEA43IsvT9BexzRYIzuA==">
   !function(){function t(t){t.target.setAttribute("data-in-composition","true")}function n(t){t.target.removeAttribute("data-in-composition")}document.addEventListener&&(document.addEventListener("compositionstart",t,!1),document.addEventListener("compositionend",n,!1))}();
  </script>
  <link class="coreCSSBundles" href="https://abs.twimg.com/a/1565969521/css/t1/twitter_core.bundle.css" rel="stylesheet"/>
  <link class="moreCSSBundles" href="https://abs.twimg.com/a/1565969521/css/t1/twitter_more_1.bundle.css" rel="stylesheet"/>
  <link class="moreCSSBundles" href="https://abs.twimg.com/a/1565969521/css/t1/twitter_more_2.bundle.css" rel="stylesheet"/>
  <link href="https://pbs.twimg.com" rel="dns-prefetch"/>
  <link href="https://t.co" rel="dns-prefetch"/>
  <link as="script" href="https://abs.twimg.com/k/en/init.en.0a7790059eef85ce7879.js" rel="preload"/>
  <link as="script" href="https://abs.twimg.com/k/en/0.commons.en.06a750caea28350212ee.js" rel="preload"/>
  <link as="script" href="https://abs.twimg.com/k/en/3.pages_profile.en.77c1a9d0ab293ba63984.js" rel="preload"/>
  <title>
   Mars Weather (@MarsWxReport) | Twitter
  </title>
  <meta content="NOODP" name="robots"/>
  <meta content="The latest Tweets from Mars Weather (@MarsWxReport). Updates as avail from the REMS weather instrument aboard @MarsCuriosity.  Data credit: Centro deAstrobiologia, FMI, JPL/NASA, Not an official acct. Gale Crater, Mars" name="description"/>
  <meta content="//abs.twimg.com/favicons/win8-tile-144.png" name="msapplication-TileImage">
   <meta content="#00aced" name="msapplication-TileColor">
    <link color="#1da1f2" href="https://abs.twimg.com/a/1565969521/icons/favicon.svg" rel="mask-icon" sizes="any"/>
    <link href="//abs.twimg.com/favicons/favicon.ico" rel="shortcut icon" type="image/x-icon"/>
    <link href="https://abs.twimg.com/icons/apple-touch-icon-192x192.png" rel="apple-touch-icon" sizes="192x192"/>
    <link href="/manifest.json" rel="manifest"/>
    <meta content="profile" id="swift-page-name" name="swift-page-name"/>
    <meta content="profile" id="swift-section-name" name="swift-page-section"/>
    <link href="https://twitter.com/marswxreport" rel="canonical"/>
    <link href="https://twitter.com/marswxreport" hreflang="x-default" rel="alternate"/>
    <link href="https://twitter.com/marswxreport?lang=fr" hreflang="fr" rel="alternate"/>
    <link href="https://twitter.com/marswxreport?lang=en" hreflang="en" rel="alternate"/>
    <link href="https://twitter.com/marswxreport?lang=ar" hreflang="ar" rel="alternate"/>
    <link href="https://twitter.com/marswxreport?lang=ja" hreflang="ja" rel="alternate"/>
    <link href="https://twitter.com/marswxreport?lang=es" hreflang="es" rel="alternate"/>
    <link href="https://twitter.com/marswxreport?lang=de" hreflang="de" rel="alternate"/>
    <link href="https://twitter.com/marswxreport?lang=it" hreflang="it" rel="alternate"/>
    <link href="https://twitter.com/marswxreport?lang=id" hreflang="id" rel="alternate"/>
    <link href="https://twitter.com/marswxreport?lang=pt" hreflang="pt" rel="alternate"/>
    <link href="https://twitter.com/marswxreport?lang=ko" hreflang="ko" rel="alternate"/>
    <link href="https://twitter.com/marswxreport?lang=tr" hreflang="tr" rel="alternate"/>
    <link href="https://twitter.com/marswxreport?lang=ru" hreflang="ru" rel="alternate"/>
    <link href="https://twitter.com/marswxreport?lang=nl" hreflang="nl" rel="alternate"/>
    <link href="https://twitter.com/marswxreport?lang=fil" hreflang="fil" rel="alternate"/>
    <link href="https://twitter.com/marswxreport?lang=ms" hreflang="ms" rel="alternate"/>
    <link href="https://twitter.com/marswxreport?lang=zh-tw" hreflang="zh-tw" rel="alternate"/>
    <link href="https://twitter.com/marswxreport?lang=zh-cn" hreflang="zh-cn" rel="alternate"/>
    <link href="https://twitter.com/marswxreport?lang=hi" hreflang="hi" rel="alternate"/>
    <link href="https://twitter.com/marswxreport?lang=no" hreflang="no" rel="alternate"/>
    <link href="https://twitter.com/marswxreport?lang=sv" hreflang="sv" rel="alternate"/>
    <link href="https://twitter.com/marswxreport?lang=fi" hreflang="fi" rel="alternate"/>
    <link href="https://twitter.com/marswxreport?lang=da" hreflang="da" rel="alternate"/>
    <link href="https://twitter.com/marswxreport?lang=pl" hreflang="pl" rel="alternate"/>
    <link href="https://twitter.com/marswxreport?lang=hu" hreflang="hu" rel="alternate"/>
    <link href="https://twitter.com/marswxreport?lang=fa" hreflang="fa" rel="alternate"/>
    <link href="https://twitter.com/marswxreport?lang=he" hreflang="he" rel="alternate"/>
    <link href="https://twitter.com/marswxreport?lang=ur" hreflang="ur" rel="alternate"/>
    <link href="https://twitter.com/marswxreport?lang=th" hreflang="th" rel="alternate"/>
    <link href="https://twitter.com/marswxreport?lang=uk" hreflang="uk" rel="alternate"/>
    <link href="https://twitter.com/marswxreport?lang=ca" hreflang="ca" rel="alternate"/>
    <link href="https://twitter.com/marswxreport?lang=ga" hreflang="ga" rel="alternate"/>
    <link href="https://twitter.com/marswxreport?lang=el" hreflang="el" rel="alternate"/>
    <link href="https://twitter.com/marswxreport?lang=eu" hreflang="eu" rel="alternate"/>
    <link href="https://twitter.com/marswxreport?lang=cs" hreflang="cs" rel="alternate"/>
    <link href="https://twitter.com/marswxreport?lang=gl" hreflang="gl" rel="alternate"/>
    <link href="https://twitter.com/marswxreport?lang=ro" hreflang="ro" rel="alternate"/>
    <link href="https://twitter.com/marswxreport?lang=hr" hreflang="hr" rel="alternate"/>
    <link href="https://twitter.com/marswxreport?lang=en-gb" hreflang="en-gb" rel="alternate"/>
    <link href="https://twitter.com/marswxreport?lang=vi" hreflang="vi" rel="alternate"/>
    <link href="https://twitter.com/marswxreport?lang=bn" hreflang="bn" rel="alternate"/>
    <link href="https://twitter.com/marswxreport?lang=bg" hreflang="bg" rel="alternate"/>
    <link href="https://twitter.com/marswxreport?lang=sr" hreflang="sr" rel="alternate"/>
    <link href="https://twitter.com/marswxreport?lang=sk" hreflang="sk" rel="alternate"/>
    <link href="https://twitter.com/marswxreport?lang=gu" hreflang="gu" rel="alternate"/>
    <link href="https://twitter.com/marswxreport?lang=mr" hreflang="mr" rel="alternate"/>
    <link href="https://twitter.com/marswxreport?lang=ta" hreflang="ta" rel="alternate"/>
    <link href="https://twitter.com/marswxreport?lang=kn" hreflang="kn" rel="alternate"/>
    <link href="https://publish.twitter.com/oembed?url=https://twitter.com/MarsWxReport" rel="alternate" title="Mars Weather (@MarsWxReport) | Twitter" type="application/json+oembed"/>
    <link href="https://mobile.twitter.com/marswxreport?locale=en" media="handheld, only screen and (max-width: 640px)" rel="alternate"/>
    <link href="android-app://com.twitter.android/twitter/user?screen_name=MarsWxReport&amp;ref_src=twsrc%5Egoogle%7Ctwcamp%5Eandroidseo%7Ctwgr%5Eprofile" rel="alternate"/>
    <link href="/opensearch.xml" rel="search" title="Twitter" type="application/opensearchdescription+xml"/>
    <link id="async-css-placeholder"/>
    <meta content="twitter://user?screen_name=MarsWxReport" property="al:ios:url"/>
    <meta content="333903271" property="al:ios:app_store_id"/>
    <meta content="Twitter" property="al:ios:app_name"/>
    <meta content="twitter://user?screen_name=MarsWxReport" property="al:android:url"/>
    <meta content="com.twitter.android" property="al:android:package"/>
    <meta content="Twitter" property="al:android:app_name"/>
   </meta>
  </meta>
 </head>
 <body class="three-col logged-out user-style-MarsWxReport enhanced-mini-profile ProfilePage ProfilePage--withWarning" data-fouc-class-names="swift-loading no-nav-banners" dir="ltr">
  <script id="swift_loading_indicator" nonce="KHqEA43IsvT9BexzRYIzuA==">
   document.body.className=document.body.className+" "+document.body.getAttribute("data-fouc-class-names");
  </script>
  <noscript>
   <form action="https://mobile.twitter.com/i/nojs_router?path=%2Fmarswxreport&amp;lang=en" class="NoScriptForm" method="POST">
    <input name="authenticity_token" type="hidden" value="b660d69c996b7065358ded2176c1a0417dbc51bd"/>
    <div class="NoScriptForm-content">
     <span class="NoScriptForm-logo Icon Icon--logo Icon--extraLarge">
     </span>
     <p>
      We've detected that JavaScript is disabled in your browser. Would you like to proceed to legacy Twitter?
     </p>
     <p class="NoScriptForm-buttonContainer">
      <button class="EdgeButton EdgeButton--primary" type="submit">
       Yes
      </button>
     </p>
    </div>
   </form>
  </noscript>
  <a class="u-hiddenVisually focusable" href="#timeline">
   Skip to content
  </a>
  <div class="route-profile" data-at-shortcutkeys='{"Enter":"Open Tweet details","o":"Expand photo","/":"Search","?":"This menu","j":"Next Tweet","k":"Previous Tweet","Space":"Page down",".":"Load new Tweets","gu":"Go to user\u2026"}' id="doc">
   <div class="topbar js-topbar">
    <div class="global-nav global-nav--newLoggedOut" data-section-term="top_nav">
     <div class="global-nav-inner">
      <div class="container">
       <ul class="nav js-global-actions" id="global-actions" role="navigation">
        <li class="home" data-global-action="home" id="global-nav-home">
         <a class="js-nav js-tooltip js-dynamic-tooltip" data-component-context="home_nav" data-nav="home" data-placement="bottom" href="/">
          <span class="Icon Icon--bird Icon--large">
          </span>
          <span aria-hidden="true" class="text">
           Home
          </span>
          <span class="u-hiddenVisually a11y-inactive-page-text">
           Home
          </span>
          <span class="u-hiddenVisually a11y-active-page-text">
           Home, current page.
          </span>
         </a>
        </li>
        <li class="moments" data-global-action="moments" id="global-nav-moments">
         <a class="js-nav js-tooltip js-dynamic-tooltip" data-component-context="moments_nav" data-nav="moments" data-placement="bottom" href="/i/moments">
          <span class="Icon Icon--lightning Icon--large">
          </span>
          <span class="Icon Icon--lightningFilled Icon--large">
          </span>
          <span aria-hidden="true" class="text">
           Moments
          </span>
          <span class="u-hiddenVisually a11y-inactive-page-text">
           Moments
          </span>
          <span class="u-hiddenVisually a11y-active-page-text">
           Moments, current page.
          </span>
         </a>
        </li>
       </ul>
       <div class="pull-right nav-extras">
        <div role="search">
         <form action="/search" class="t1-form form-search js-search-form" id="global-nav-search">
          <label class="visuallyhidden" for="search-query">
           Search query
          </label>
          <input autocomplete="off" class="search-input" id="search-query" name="q" placeholder="Search Twitter" spellcheck="false" type="text"/>
          <span class="search-icon js-search-action">
           <button class="Icon Icon--medium Icon--search nav-search" type="submit">
            <span class="visuallyhidden">
             Search Twitter
            </span>
           </button>
          </span>
          <div class="dropdown-menu typeahead" role="listbox">
           <div aria-hidden="true" class="dropdown-caret">
            <div class="caret-outer">
            </div>
            <div class="caret-inner">
            </div>
           </div>
           <div class="dropdown-inner js-typeahead-results" role="presentation">
            <div class="typeahead-saved-searches" role="presentation">
             <h3 class="typeahead-category-title saved-searches-title" id="saved-searches-heading">
              Saved searches
             </h3>
             <ul class="typeahead-items saved-searches-list" role="presentation">
              <li class="typeahead-item typeahead-saved-search-item" role="presentation">
               <span aria-hidden="true" class="Icon Icon--close">
                <span class="visuallyhidden">
                 Remove
                </span>
               </span>
               <a aria-describedby="saved-searches-heading" class="js-nav" data-ds="saved_search" data-query-source="" data-search-query="" href="" role="option" tabindex="-1">
               </a>
              </li>
             </ul>
            </div>
            <ul class="typeahead-items typeahead-topics" role="presentation">
             <li class="typeahead-item typeahead-topic-item" role="presentation">
              <a class="js-nav" data-ds="topics" data-query-source="typeahead_click" data-search-query="" href="" role="option" tabindex="-1">
              </a>
             </li>
            </ul>
            <ul class="typeahead-items typeahead-accounts social-context js-typeahead-accounts" role="presentation">
